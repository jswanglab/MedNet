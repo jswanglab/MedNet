{
 "cells": [
  {
   "cell_type": "code",
   "execution_count": null,
   "metadata": {
    "scrolled": true
   },
   "outputs": [],
   "source": [
    "import os\n",
    "from shutil import copyfile\n",
    "from sklearn.model_selection import train_test_split\n",
    "\n",
    "label_file = open(\"/home/ubuntu/Desktop/High/Highlighted/name_lists.txt\", 'r')\n",
    "input_path = \"/home/ubuntu/Desktop/High/Highlighted/JPEGImages/\"\n",
    "train_path = \"/home/ubuntu/Desktop/High/HighlightedTrain/\"\n",
    "test_path = \"/home/ubuntu/Desktop/High/HighlightedTest/\"\n",
    "split = 0.25\n",
    "images_per_class = 72\n",
    "classes = 250\n",
    "\n",
    "for i in range(1, classes + 1):\n",
    "    j = range((i-1) * images_per_class + 1, i * images_per_class + 1)\n",
    "    \n",
    "    # 設定資料集分割方式\n",
    "    TRAIN, TEST = train_test_split(j, test_size=split, shuffle = True)\n",
    "    \n",
    "    # 自動根據 label 文件創建資料夾\n",
    "    drug_name = label_file.readline().strip()\n",
    "    os.mkdir(\"%s%s\"%(train_path, drug_name))\n",
    "    os.mkdir(\"%s%s\"%(test_path, drug_name))\n",
    "    \n",
    "    # 初始化影像檔案名稱\n",
    "    TRAIN_COUNTER = 1\n",
    "    TEST_COUNTER = 1\n",
    "    \n",
    "    # 處理 Training 資料\n",
    "    for _, element in enumerate(TRAIN):\n",
    "        print(\"%d\\t->\\t%d\"%(element, TRAIN_COUNTER))\n",
    "        copyfile(\"%s%d.jpg\"%(input_path, element), \"%s%s/%d.jpg\"%(train_path, drug_name, TRAIN_COUNTER))\n",
    "        TRAIN_COUNTER += 1\n",
    "\n",
    "    # 處理 Testing 資料\n",
    "    for _, element in enumerate(TEST):\n",
    "        print(\"%d\\t->\\t%d\"%(element, TEST_COUNTER))\n",
    "        copyfile(\"%s%d.jpg\"%(input_path, element), \"%s%s/%d.jpg\"%(test_path, drug_name, TEST_COUNTER))\n",
    "        TEST_COUNTER += 1"
   ]
  }
 ],
 "metadata": {
  "kernelspec": {
   "display_name": "Python 2",
   "language": "python",
   "name": "python2"
  },
  "language_info": {
   "codemirror_mode": {
    "name": "ipython",
    "version": 2
   },
   "file_extension": ".py",
   "mimetype": "text/x-python",
   "name": "python",
   "nbconvert_exporter": "python",
   "pygments_lexer": "ipython2",
   "version": "2.7.14"
  }
 },
 "nbformat": 4,
 "nbformat_minor": 2
}
